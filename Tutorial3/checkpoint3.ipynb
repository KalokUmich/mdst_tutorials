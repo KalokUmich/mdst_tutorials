{
 "cells": [
  {
   "cell_type": "markdown",
   "metadata": {},
   "source": [
    "<h1> The Challenge:</h1>\n",
    "\n",
    "Based off this dataset with school financial, enrollment, and achievement data, we are interested in what information is a useful indicator of student performance at the state level.\n",
    "\n",
    "This question is a bit too big for a checkpoint, however. Instead, we want you to look at smaller questions related to our overall goal. Here's the overview:\n",
    "\n",
    "1. Choose a specific test to focus on\n",
    ">Math/Reading for 4/8 grade\n",
    "* Pick or create features to use\n",
    ">Will all the features be useful in predicting test score? Are some more important than others? Should you standardize, bin, or scale the data?\n",
    "* Explore the data as it relates to that test\n",
    ">Create 2 well-labeled visualizations (graphs), each with a caption describing the graph and what it tells us about the data\n",
    "* Create training and testing data\n",
    ">Do you want to train on all the data? Only data from the last 10 years? Only Michigan data?\n",
    "* Train a ML model to predict outcome \n",
    ">Pick if you want to do a regression or classification task. For both cases, defined _exactly_ what you want to predict, and pick any model in sklearn to use (see sklearn <a href=\"https://scikit-learn.org/stable/modules/linear_model.html\">regressors</a> and <a href=\"https://scikit-learn.org/stable/auto_examples/classification/plot_classifier_comparison.html\">classifiers</a>).\n",
    "* Summarize your findings\n",
    ">Write a 1 paragraph summary of what you did and make a recommendation about if and how student performance can be predicted\n",
    "\n",
    "** Include comments throughout your code! Every cleanup and preprocessing task should be documented.\n",
    "\n",
    "\n",
    "Of course, if you're finding this assignment interesting (and we really hope you do!), you are welcome to do more than the requirements! For example, you may want to see if expenditure affects 4th graders more than 8th graders. Maybe you want to look into the extended version of this dataset and see how factors like sex and race are involved. You can include all your work in this notebook when you turn it in -- just always make sure you explain what you did and interpret your results. Good luck!"
   ]
  },
  {
   "cell_type": "code",
   "execution_count": 1,
   "metadata": {},
   "outputs": [],
   "source": [
    "import pandas as pd\n",
    "import numpy as np\n",
    "import matplotlib.pyplot as plt\n",
    "import seaborn as sns\n",
    "\n",
    "# feel free to import other libraries! "
   ]
  },
  {
   "cell_type": "code",
   "execution_count": 2,
   "metadata": {},
   "outputs": [],
   "source": [
    "df = pd.read_csv('states_edu.csv')"
   ]
  },
  {
   "cell_type": "markdown",
   "metadata": {},
   "source": [
    "Chosen test: **<Math for 8 grade>**"
   ]
  },
  {
   "cell_type": "markdown",
   "metadata": {},
   "source": [
    "<h2> Cleanup (optional)</h2>\n",
    "\n",
    "_Use this space to rename columns, deal with missing data, etc._"
   ]
  },
  {
   "cell_type": "code",
   "execution_count": 3,
   "metadata": {},
   "outputs": [],
   "source": [
    "# rename the columns\n",
    "# let's rename our columns to make them more intuitive\n",
    "df.rename({\n",
    "    'GRADES_PK_G':'ENROLL_PREK',\n",
    "    'GRADES_KG_G':'ENROLL_KINDER',\n",
    "    'GRADES_4_G':'ENROLL_4',\n",
    "    'GRADES_8_G':'ENROLL_8',\n",
    "    'GRADES_12_G':'ENROLL_12',\n",
    "    'GRADES_1_8_G':'ENROLL_PRIMARY',\n",
    "    'GRADES_9_12_G':'ENROLL_HS',\n",
    "    'GRADES_ALL_G':'ENROLL_ALL',\n",
    "    'ENROLL':'ENROLL_ALL_EST'\n",
    "    },\n",
    "    axis=1,inplace=True)"
   ]
  },
  {
   "cell_type": "markdown",
   "metadata": {},
   "source": [
    "Print out the names of the columns."
   ]
  },
  {
   "cell_type": "code",
   "execution_count": 4,
   "metadata": {},
   "outputs": [
    {
     "data": {
      "text/plain": [
       "Index(['PRIMARY_KEY', 'STATE', 'YEAR', 'ENROLL_ALL_EST', 'TOTAL_REVENUE',\n",
       "       'FEDERAL_REVENUE', 'STATE_REVENUE', 'LOCAL_REVENUE',\n",
       "       'TOTAL_EXPENDITURE', 'INSTRUCTION_EXPENDITURE',\n",
       "       'SUPPORT_SERVICES_EXPENDITURE', 'OTHER_EXPENDITURE',\n",
       "       'CAPITAL_OUTLAY_EXPENDITURE', 'ENROLL_PREK', 'ENROLL_KINDER',\n",
       "       'ENROLL_4', 'ENROLL_8', 'ENROLL_12', 'ENROLL_PRIMARY', 'ENROLL_HS',\n",
       "       'ENROLL_ALL', 'AVG_MATH_4_SCORE', 'AVG_MATH_8_SCORE',\n",
       "       'AVG_READING_4_SCORE', 'AVG_READING_8_SCORE'],\n",
       "      dtype='object')"
      ]
     },
     "execution_count": 4,
     "metadata": {},
     "output_type": "execute_result"
    }
   ],
   "source": [
    "df.columns"
   ]
  },
  {
   "cell_type": "markdown",
   "metadata": {},
   "source": [
    "Firstly, let's focus math score for 8 grade. So we need to remove all the NaN data in this column."
   ]
  },
  {
   "cell_type": "code",
   "execution_count": 5,
   "metadata": {},
   "outputs": [],
   "source": [
    "df_math = df[ ~df['AVG_MATH_8_SCORE'].isna()]"
   ]
  },
  {
   "cell_type": "markdown",
   "metadata": {},
   "source": [
    "Although we remove the NAN rows for AVG_MATH_8_SCORE, some variables (revenue and expenditure) that we are interested in are still NANs. "
   ]
  },
  {
   "cell_type": "code",
   "execution_count": 6,
   "metadata": {},
   "outputs": [
    {
     "data": {
      "text/plain": [
       "PRIMARY_KEY                     602\n",
       "STATE                           602\n",
       "YEAR                            602\n",
       "ENROLL_ALL_EST                  397\n",
       "TOTAL_REVENUE                   439\n",
       "FEDERAL_REVENUE                 439\n",
       "STATE_REVENUE                   439\n",
       "LOCAL_REVENUE                   439\n",
       "TOTAL_EXPENDITURE               439\n",
       "INSTRUCTION_EXPENDITURE         439\n",
       "SUPPORT_SERVICES_EXPENDITURE    439\n",
       "OTHER_EXPENDITURE               397\n",
       "CAPITAL_OUTLAY_EXPENDITURE      439\n",
       "ENROLL_PREK                     518\n",
       "ENROLL_KINDER                   528\n",
       "ENROLL_4                        528\n",
       "ENROLL_8                        528\n",
       "ENROLL_12                       528\n",
       "ENROLL_PRIMARY                  397\n",
       "ENROLL_HS                       448\n",
       "ENROLL_ALL                      528\n",
       "AVG_MATH_4_SCORE                564\n",
       "AVG_MATH_8_SCORE                602\n",
       "AVG_READING_4_SCORE             521\n",
       "AVG_READING_8_SCORE             478\n",
       "dtype: int64"
      ]
     },
     "execution_count": 6,
     "metadata": {},
     "output_type": "execute_result"
    }
   ],
   "source": [
    "df_math.notna().sum()"
   ]
  },
  {
   "cell_type": "markdown",
   "metadata": {},
   "source": [
    "Let's look at the dataframe after the cleaning NANs of AVG_MATH_8_SCORE. For better reviewing the data, we sort it by states and years."
   ]
  },
  {
   "cell_type": "code",
   "execution_count": 7,
   "metadata": {},
   "outputs": [],
   "source": [
    "df_new = df_math.sort_values( by = ['STATE', 'YEAR']).reset_index(drop = True)"
   ]
  },
  {
   "cell_type": "code",
   "execution_count": 8,
   "metadata": {},
   "outputs": [
    {
     "data": {
      "text/html": [
       "<div>\n",
       "<style scoped>\n",
       "    .dataframe tbody tr th:only-of-type {\n",
       "        vertical-align: middle;\n",
       "    }\n",
       "\n",
       "    .dataframe tbody tr th {\n",
       "        vertical-align: top;\n",
       "    }\n",
       "\n",
       "    .dataframe thead th {\n",
       "        text-align: right;\n",
       "    }\n",
       "</style>\n",
       "<table border=\"1\" class=\"dataframe\">\n",
       "  <thead>\n",
       "    <tr style=\"text-align: right;\">\n",
       "      <th></th>\n",
       "      <th>PRIMARY_KEY</th>\n",
       "      <th>STATE</th>\n",
       "      <th>YEAR</th>\n",
       "      <th>ENROLL_ALL_EST</th>\n",
       "      <th>TOTAL_REVENUE</th>\n",
       "      <th>FEDERAL_REVENUE</th>\n",
       "      <th>STATE_REVENUE</th>\n",
       "      <th>LOCAL_REVENUE</th>\n",
       "      <th>TOTAL_EXPENDITURE</th>\n",
       "      <th>INSTRUCTION_EXPENDITURE</th>\n",
       "      <th>...</th>\n",
       "      <th>ENROLL_4</th>\n",
       "      <th>ENROLL_8</th>\n",
       "      <th>ENROLL_12</th>\n",
       "      <th>ENROLL_PRIMARY</th>\n",
       "      <th>ENROLL_HS</th>\n",
       "      <th>ENROLL_ALL</th>\n",
       "      <th>AVG_MATH_4_SCORE</th>\n",
       "      <th>AVG_MATH_8_SCORE</th>\n",
       "      <th>AVG_READING_4_SCORE</th>\n",
       "      <th>AVG_READING_8_SCORE</th>\n",
       "    </tr>\n",
       "  </thead>\n",
       "  <tbody>\n",
       "    <tr>\n",
       "      <th>0</th>\n",
       "      <td>1990_ALABAMA</td>\n",
       "      <td>ALABAMA</td>\n",
       "      <td>1990</td>\n",
       "      <td>NaN</td>\n",
       "      <td>NaN</td>\n",
       "      <td>NaN</td>\n",
       "      <td>NaN</td>\n",
       "      <td>NaN</td>\n",
       "      <td>NaN</td>\n",
       "      <td>NaN</td>\n",
       "      <td>...</td>\n",
       "      <td>58666.0</td>\n",
       "      <td>57024.0</td>\n",
       "      <td>42031.0</td>\n",
       "      <td>NaN</td>\n",
       "      <td>NaN</td>\n",
       "      <td>721806.0</td>\n",
       "      <td>NaN</td>\n",
       "      <td>253.0</td>\n",
       "      <td>NaN</td>\n",
       "      <td>NaN</td>\n",
       "    </tr>\n",
       "    <tr>\n",
       "      <th>1</th>\n",
       "      <td>1992_ALABAMA</td>\n",
       "      <td>ALABAMA</td>\n",
       "      <td>1992</td>\n",
       "      <td>NaN</td>\n",
       "      <td>2678885.0</td>\n",
       "      <td>304177.0</td>\n",
       "      <td>1659028.0</td>\n",
       "      <td>715680.0</td>\n",
       "      <td>2653798.0</td>\n",
       "      <td>1481703.0</td>\n",
       "      <td>...</td>\n",
       "      <td>57948.0</td>\n",
       "      <td>58025.0</td>\n",
       "      <td>41167.0</td>\n",
       "      <td>NaN</td>\n",
       "      <td>NaN</td>\n",
       "      <td>731634.0</td>\n",
       "      <td>208.0</td>\n",
       "      <td>252.0</td>\n",
       "      <td>207.0</td>\n",
       "      <td>NaN</td>\n",
       "    </tr>\n",
       "    <tr>\n",
       "      <th>2</th>\n",
       "      <td>2000_ALABAMA</td>\n",
       "      <td>ALABAMA</td>\n",
       "      <td>2000</td>\n",
       "      <td>730184.0</td>\n",
       "      <td>4885917.0</td>\n",
       "      <td>425978.0</td>\n",
       "      <td>3003814.0</td>\n",
       "      <td>1456125.0</td>\n",
       "      <td>5003267.0</td>\n",
       "      <td>2551713.0</td>\n",
       "      <td>...</td>\n",
       "      <td>59749.0</td>\n",
       "      <td>56951.0</td>\n",
       "      <td>42512.0</td>\n",
       "      <td>472686.0</td>\n",
       "      <td>201358.0</td>\n",
       "      <td>739992.0</td>\n",
       "      <td>217.0</td>\n",
       "      <td>264.0</td>\n",
       "      <td>NaN</td>\n",
       "      <td>NaN</td>\n",
       "    </tr>\n",
       "    <tr>\n",
       "      <th>3</th>\n",
       "      <td>2003_ALABAMA</td>\n",
       "      <td>ALABAMA</td>\n",
       "      <td>2003</td>\n",
       "      <td>727900.0</td>\n",
       "      <td>5196054.0</td>\n",
       "      <td>567704.0</td>\n",
       "      <td>2966981.0</td>\n",
       "      <td>1661369.0</td>\n",
       "      <td>5298932.0</td>\n",
       "      <td>2817111.0</td>\n",
       "      <td>...</td>\n",
       "      <td>57323.0</td>\n",
       "      <td>59663.0</td>\n",
       "      <td>42005.0</td>\n",
       "      <td>466920.0</td>\n",
       "      <td>205907.0</td>\n",
       "      <td>731220.0</td>\n",
       "      <td>223.0</td>\n",
       "      <td>262.0</td>\n",
       "      <td>207.0</td>\n",
       "      <td>253.0</td>\n",
       "    </tr>\n",
       "    <tr>\n",
       "      <th>4</th>\n",
       "      <td>2005_ALABAMA</td>\n",
       "      <td>ALABAMA</td>\n",
       "      <td>2005</td>\n",
       "      <td>729342.0</td>\n",
       "      <td>5889966.0</td>\n",
       "      <td>665924.0</td>\n",
       "      <td>3247562.0</td>\n",
       "      <td>1976480.0</td>\n",
       "      <td>5904664.0</td>\n",
       "      <td>3053380.0</td>\n",
       "      <td>...</td>\n",
       "      <td>55919.0</td>\n",
       "      <td>59643.0</td>\n",
       "      <td>43452.0</td>\n",
       "      <td>466164.0</td>\n",
       "      <td>212414.0</td>\n",
       "      <td>741761.0</td>\n",
       "      <td>225.0</td>\n",
       "      <td>262.0</td>\n",
       "      <td>208.0</td>\n",
       "      <td>252.0</td>\n",
       "    </tr>\n",
       "    <tr>\n",
       "      <th>5</th>\n",
       "      <td>2007_ALABAMA</td>\n",
       "      <td>ALABAMA</td>\n",
       "      <td>2007</td>\n",
       "      <td>743273.0</td>\n",
       "      <td>7069040.0</td>\n",
       "      <td>689072.0</td>\n",
       "      <td>4070949.0</td>\n",
       "      <td>2309019.0</td>\n",
       "      <td>7196459.0</td>\n",
       "      <td>3653466.0</td>\n",
       "      <td>...</td>\n",
       "      <td>57795.0</td>\n",
       "      <td>58792.0</td>\n",
       "      <td>46200.0</td>\n",
       "      <td>466414.0</td>\n",
       "      <td>216941.0</td>\n",
       "      <td>742919.0</td>\n",
       "      <td>229.0</td>\n",
       "      <td>266.0</td>\n",
       "      <td>216.0</td>\n",
       "      <td>252.0</td>\n",
       "    </tr>\n",
       "    <tr>\n",
       "      <th>6</th>\n",
       "      <td>2009_ALABAMA</td>\n",
       "      <td>ALABAMA</td>\n",
       "      <td>2009</td>\n",
       "      <td>745668.0</td>\n",
       "      <td>7186390.0</td>\n",
       "      <td>728795.0</td>\n",
       "      <td>4161103.0</td>\n",
       "      <td>2296492.0</td>\n",
       "      <td>7815467.0</td>\n",
       "      <td>3836398.0</td>\n",
       "      <td>...</td>\n",
       "      <td>59512.0</td>\n",
       "      <td>57027.0</td>\n",
       "      <td>48164.0</td>\n",
       "      <td>464601.0</td>\n",
       "      <td>219495.0</td>\n",
       "      <td>748889.0</td>\n",
       "      <td>228.0</td>\n",
       "      <td>269.0</td>\n",
       "      <td>216.0</td>\n",
       "      <td>255.0</td>\n",
       "    </tr>\n",
       "    <tr>\n",
       "      <th>7</th>\n",
       "      <td>2011_ALABAMA</td>\n",
       "      <td>ALABAMA</td>\n",
       "      <td>2011</td>\n",
       "      <td>746933.0</td>\n",
       "      <td>7376725.0</td>\n",
       "      <td>1077070.0</td>\n",
       "      <td>3965614.0</td>\n",
       "      <td>2334041.0</td>\n",
       "      <td>7411768.0</td>\n",
       "      <td>3844055.0</td>\n",
       "      <td>...</td>\n",
       "      <td>56491.0</td>\n",
       "      <td>57919.0</td>\n",
       "      <td>49510.0</td>\n",
       "      <td>461122.0</td>\n",
       "      <td>217615.0</td>\n",
       "      <td>744621.0</td>\n",
       "      <td>231.0</td>\n",
       "      <td>269.0</td>\n",
       "      <td>220.0</td>\n",
       "      <td>258.0</td>\n",
       "    </tr>\n",
       "    <tr>\n",
       "      <th>8</th>\n",
       "      <td>2013_ALABAMA</td>\n",
       "      <td>ALABAMA</td>\n",
       "      <td>2013</td>\n",
       "      <td>744548.0</td>\n",
       "      <td>7197439.0</td>\n",
       "      <td>811739.0</td>\n",
       "      <td>3898347.0</td>\n",
       "      <td>2487353.0</td>\n",
       "      <td>7487741.0</td>\n",
       "      <td>3747993.0</td>\n",
       "      <td>...</td>\n",
       "      <td>55719.0</td>\n",
       "      <td>58799.0</td>\n",
       "      <td>48965.0</td>\n",
       "      <td>458327.0</td>\n",
       "      <td>218705.0</td>\n",
       "      <td>746204.0</td>\n",
       "      <td>233.0</td>\n",
       "      <td>269.0</td>\n",
       "      <td>219.0</td>\n",
       "      <td>257.0</td>\n",
       "    </tr>\n",
       "    <tr>\n",
       "      <th>9</th>\n",
       "      <td>2015_ALABAMA</td>\n",
       "      <td>ALABAMA</td>\n",
       "      <td>2015</td>\n",
       "      <td>734974.0</td>\n",
       "      <td>7360222.0</td>\n",
       "      <td>795238.0</td>\n",
       "      <td>4080167.0</td>\n",
       "      <td>2484817.0</td>\n",
       "      <td>7501799.0</td>\n",
       "      <td>3817479.0</td>\n",
       "      <td>...</td>\n",
       "      <td>55808.0</td>\n",
       "      <td>55792.0</td>\n",
       "      <td>50668.0</td>\n",
       "      <td>452764.0</td>\n",
       "      <td>222182.0</td>\n",
       "      <td>743789.0</td>\n",
       "      <td>231.0</td>\n",
       "      <td>267.0</td>\n",
       "      <td>217.0</td>\n",
       "      <td>259.0</td>\n",
       "    </tr>\n",
       "    <tr>\n",
       "      <th>10</th>\n",
       "      <td>2017_ALABAMA</td>\n",
       "      <td>ALABAMA</td>\n",
       "      <td>2017</td>\n",
       "      <td>NaN</td>\n",
       "      <td>NaN</td>\n",
       "      <td>NaN</td>\n",
       "      <td>NaN</td>\n",
       "      <td>NaN</td>\n",
       "      <td>NaN</td>\n",
       "      <td>NaN</td>\n",
       "      <td>...</td>\n",
       "      <td>58541.0</td>\n",
       "      <td>55226.0</td>\n",
       "      <td>52848.0</td>\n",
       "      <td>NaN</td>\n",
       "      <td>219387.0</td>\n",
       "      <td>742444.0</td>\n",
       "      <td>232.0</td>\n",
       "      <td>268.0</td>\n",
       "      <td>216.0</td>\n",
       "      <td>258.0</td>\n",
       "    </tr>\n",
       "    <tr>\n",
       "      <th>11</th>\n",
       "      <td>2019_ALABAMA</td>\n",
       "      <td>ALABAMA</td>\n",
       "      <td>2019</td>\n",
       "      <td>NaN</td>\n",
       "      <td>NaN</td>\n",
       "      <td>NaN</td>\n",
       "      <td>NaN</td>\n",
       "      <td>NaN</td>\n",
       "      <td>NaN</td>\n",
       "      <td>NaN</td>\n",
       "      <td>...</td>\n",
       "      <td>NaN</td>\n",
       "      <td>NaN</td>\n",
       "      <td>NaN</td>\n",
       "      <td>NaN</td>\n",
       "      <td>NaN</td>\n",
       "      <td>NaN</td>\n",
       "      <td>230.0</td>\n",
       "      <td>269.0</td>\n",
       "      <td>212.0</td>\n",
       "      <td>253.0</td>\n",
       "    </tr>\n",
       "  </tbody>\n",
       "</table>\n",
       "<p>12 rows × 25 columns</p>\n",
       "</div>"
      ],
      "text/plain": [
       "     PRIMARY_KEY    STATE  YEAR  ENROLL_ALL_EST  TOTAL_REVENUE  \\\n",
       "0   1990_ALABAMA  ALABAMA  1990             NaN            NaN   \n",
       "1   1992_ALABAMA  ALABAMA  1992             NaN      2678885.0   \n",
       "2   2000_ALABAMA  ALABAMA  2000        730184.0      4885917.0   \n",
       "3   2003_ALABAMA  ALABAMA  2003        727900.0      5196054.0   \n",
       "4   2005_ALABAMA  ALABAMA  2005        729342.0      5889966.0   \n",
       "5   2007_ALABAMA  ALABAMA  2007        743273.0      7069040.0   \n",
       "6   2009_ALABAMA  ALABAMA  2009        745668.0      7186390.0   \n",
       "7   2011_ALABAMA  ALABAMA  2011        746933.0      7376725.0   \n",
       "8   2013_ALABAMA  ALABAMA  2013        744548.0      7197439.0   \n",
       "9   2015_ALABAMA  ALABAMA  2015        734974.0      7360222.0   \n",
       "10  2017_ALABAMA  ALABAMA  2017             NaN            NaN   \n",
       "11  2019_ALABAMA  ALABAMA  2019             NaN            NaN   \n",
       "\n",
       "    FEDERAL_REVENUE  STATE_REVENUE  LOCAL_REVENUE  TOTAL_EXPENDITURE  \\\n",
       "0               NaN            NaN            NaN                NaN   \n",
       "1          304177.0      1659028.0       715680.0          2653798.0   \n",
       "2          425978.0      3003814.0      1456125.0          5003267.0   \n",
       "3          567704.0      2966981.0      1661369.0          5298932.0   \n",
       "4          665924.0      3247562.0      1976480.0          5904664.0   \n",
       "5          689072.0      4070949.0      2309019.0          7196459.0   \n",
       "6          728795.0      4161103.0      2296492.0          7815467.0   \n",
       "7         1077070.0      3965614.0      2334041.0          7411768.0   \n",
       "8          811739.0      3898347.0      2487353.0          7487741.0   \n",
       "9          795238.0      4080167.0      2484817.0          7501799.0   \n",
       "10              NaN            NaN            NaN                NaN   \n",
       "11              NaN            NaN            NaN                NaN   \n",
       "\n",
       "    INSTRUCTION_EXPENDITURE  ...  ENROLL_4  ENROLL_8  ENROLL_12  \\\n",
       "0                       NaN  ...   58666.0   57024.0    42031.0   \n",
       "1                 1481703.0  ...   57948.0   58025.0    41167.0   \n",
       "2                 2551713.0  ...   59749.0   56951.0    42512.0   \n",
       "3                 2817111.0  ...   57323.0   59663.0    42005.0   \n",
       "4                 3053380.0  ...   55919.0   59643.0    43452.0   \n",
       "5                 3653466.0  ...   57795.0   58792.0    46200.0   \n",
       "6                 3836398.0  ...   59512.0   57027.0    48164.0   \n",
       "7                 3844055.0  ...   56491.0   57919.0    49510.0   \n",
       "8                 3747993.0  ...   55719.0   58799.0    48965.0   \n",
       "9                 3817479.0  ...   55808.0   55792.0    50668.0   \n",
       "10                      NaN  ...   58541.0   55226.0    52848.0   \n",
       "11                      NaN  ...       NaN       NaN        NaN   \n",
       "\n",
       "    ENROLL_PRIMARY  ENROLL_HS  ENROLL_ALL  AVG_MATH_4_SCORE  AVG_MATH_8_SCORE  \\\n",
       "0              NaN        NaN    721806.0               NaN             253.0   \n",
       "1              NaN        NaN    731634.0             208.0             252.0   \n",
       "2         472686.0   201358.0    739992.0             217.0             264.0   \n",
       "3         466920.0   205907.0    731220.0             223.0             262.0   \n",
       "4         466164.0   212414.0    741761.0             225.0             262.0   \n",
       "5         466414.0   216941.0    742919.0             229.0             266.0   \n",
       "6         464601.0   219495.0    748889.0             228.0             269.0   \n",
       "7         461122.0   217615.0    744621.0             231.0             269.0   \n",
       "8         458327.0   218705.0    746204.0             233.0             269.0   \n",
       "9         452764.0   222182.0    743789.0             231.0             267.0   \n",
       "10             NaN   219387.0    742444.0             232.0             268.0   \n",
       "11             NaN        NaN         NaN             230.0             269.0   \n",
       "\n",
       "    AVG_READING_4_SCORE  AVG_READING_8_SCORE  \n",
       "0                   NaN                  NaN  \n",
       "1                 207.0                  NaN  \n",
       "2                   NaN                  NaN  \n",
       "3                 207.0                253.0  \n",
       "4                 208.0                252.0  \n",
       "5                 216.0                252.0  \n",
       "6                 216.0                255.0  \n",
       "7                 220.0                258.0  \n",
       "8                 219.0                257.0  \n",
       "9                 217.0                259.0  \n",
       "10                216.0                258.0  \n",
       "11                212.0                253.0  \n",
       "\n",
       "[12 rows x 25 columns]"
      ]
     },
     "execution_count": 8,
     "metadata": {},
     "output_type": "execute_result"
    }
   ],
   "source": [
    "df_new.head(12)"
   ]
  },
  {
   "cell_type": "markdown",
   "metadata": {},
   "source": [
    "We can see that some states missed some data on expenditures."
   ]
  },
  {
   "cell_type": "markdown",
   "metadata": {},
   "source": [
    "<h2> Feature Selection </h2>\n",
    "\n",
    "_Use this space to modify or create features_"
   ]
  },
  {
   "cell_type": "markdown",
   "metadata": {},
   "source": [
    "Two columns SUPPORT_SERVICES_EXPENDITURE and INSTRUCTION_EXPENDITURE_PER_STUDENT are added since I want to analyze how the spending on each student impact their math score."
   ]
  },
  {
   "cell_type": "code",
   "execution_count": 9,
   "metadata": {},
   "outputs": [],
   "source": [
    "df_new.loc[:, 'SUPPORT_SERVICES_EXPENDITURE_PER_STUDENT'] = df_new['SUPPORT_SERVICES_EXPENDITURE'] / df_new['ENROLL_ALL']\n",
    "df_new.loc[:, 'INSTRUCTION_EXPENDITURE_PER_STUDENT'] = df_new['INSTRUCTION_EXPENDITURE'] / df_new['ENROLL_ALL']"
   ]
  },
  {
   "cell_type": "markdown",
   "metadata": {},
   "source": [
    "But many values of expenditures are missing. One way to handle thses NANs is to use interpolation. By assuming that the expenditure on each student will change linearly over time, a linear method can be applied to perform the interpolation."
   ]
  },
  {
   "cell_type": "code",
   "execution_count": 10,
   "metadata": {},
   "outputs": [],
   "source": [
    "# create a function for interpolation\n",
    "def do_interpolation(state, exp_type):\n",
    "    \"\"\"\n",
    "    Perform interpolation on the series of expenditures of a state.\n",
    "    \n",
    "    Input:\n",
    "    state: str, the name of the state\n",
    "    exp_type: str, the name of the expenditure that needs to be interpolated.\n",
    "    \n",
    "    Output:\n",
    "    inpo_s: series, the resultant series.\n",
    "    \"\"\"\n",
    "    pos = (df_new['STATE'] == state)\n",
    "    s = df_new[pos][exp_type].interpolate(method = 'linear')\n",
    "    return(s)\n",
    "\n",
    "# build a list of names of the states\n",
    "states = df_new['STATE'].unique()\n",
    "\n",
    "for state in states:\n",
    "    pos = (df_new['STATE'] == state)\n",
    "    for exp_type in ['SUPPORT_SERVICES_EXPENDITURE_PER_STUDENT', 'INSTRUCTION_EXPENDITURE_PER_STUDENT']:\n",
    "        df_new.loc[pos, exp_type] = do_interpolation(state, exp_type)"
   ]
  },
  {
   "cell_type": "markdown",
   "metadata": {},
   "source": [
    "After performing interpolation, we have filled 102 values for SUPPORT_SERVICES_EXPENDITURE_PER_STUDENT and INSTRUCTION_EXPENDITURE_PER_STUDENT. "
   ]
  },
  {
   "cell_type": "code",
   "execution_count": 11,
   "metadata": {},
   "outputs": [
    {
     "data": {
      "text/plain": [
       "PRIMARY_KEY                                 602\n",
       "STATE                                       602\n",
       "YEAR                                        602\n",
       "ENROLL_ALL_EST                              397\n",
       "TOTAL_REVENUE                               439\n",
       "FEDERAL_REVENUE                             439\n",
       "STATE_REVENUE                               439\n",
       "LOCAL_REVENUE                               439\n",
       "TOTAL_EXPENDITURE                           439\n",
       "INSTRUCTION_EXPENDITURE                     439\n",
       "SUPPORT_SERVICES_EXPENDITURE                439\n",
       "OTHER_EXPENDITURE                           397\n",
       "CAPITAL_OUTLAY_EXPENDITURE                  439\n",
       "ENROLL_PREK                                 518\n",
       "ENROLL_KINDER                               528\n",
       "ENROLL_4                                    528\n",
       "ENROLL_8                                    528\n",
       "ENROLL_12                                   528\n",
       "ENROLL_PRIMARY                              397\n",
       "ENROLL_HS                                   448\n",
       "ENROLL_ALL                                  528\n",
       "AVG_MATH_4_SCORE                            564\n",
       "AVG_MATH_8_SCORE                            602\n",
       "AVG_READING_4_SCORE                         521\n",
       "AVG_READING_8_SCORE                         478\n",
       "SUPPORT_SERVICES_EXPENDITURE_PER_STUDENT    541\n",
       "INSTRUCTION_EXPENDITURE_PER_STUDENT         541\n",
       "dtype: int64"
      ]
     },
     "execution_count": 11,
     "metadata": {},
     "output_type": "execute_result"
    }
   ],
   "source": [
    "df_new.notna().sum()"
   ]
  },
  {
   "cell_type": "markdown",
   "metadata": {},
   "source": [
    "Finally, clean up the rows with NAN values in SUPPORT_SERVICES_EXPENDITURE_PER_STUDENT and INSTRUCTION_EXPENDITURE_PER_STUDENT."
   ]
  },
  {
   "cell_type": "code",
   "execution_count": 12,
   "metadata": {},
   "outputs": [],
   "source": [
    "df_new = df_new[ ~df_new['SUPPORT_SERVICES_EXPENDITURE_PER_STUDENT'].isna() ]"
   ]
  },
  {
   "cell_type": "markdown",
   "metadata": {},
   "source": [
    "Final feature list: **<SUPPORT_SERVICES_EXPENDITURE_PER_STUDENT, INSTRUCTION_EXPENDITURE_PER_STUDENT, YEAR, ENROLL_8, AVG_READING_8_SCORE, AVG_READING_4_SCORE\\>**"
   ]
  },
  {
   "cell_type": "markdown",
   "metadata": {},
   "source": [
    "Feature selection justification: **< In my opinion, more budget spending on the students will give them better educational materials, better equipment (computer, iPad), and more advanced teaching techniques which can help students to know difficult concepts in math. So it is interesting to see whether average expenditures play significant roles in math scores. Also, in my opinion, the states which have outstanding average 4th-grade math scores should also have high 8th-grade math \\>**"
   ]
  },
  {
   "cell_type": "markdown",
   "metadata": {},
   "source": [
    "<h2> EDA </h2>"
   ]
  },
  {
   "cell_type": "markdown",
   "metadata": {},
   "source": [
    "Visualization 1"
   ]
  },
  {
   "cell_type": "markdown",
   "metadata": {},
   "source": [
    "Firstly have a look at the distribution of average math scores for students in the 8th grade. "
   ]
  },
  {
   "cell_type": "code",
   "execution_count": 13,
   "metadata": {},
   "outputs": [
    {
     "data": {
      "text/plain": [
       "Text(0.5, 1.0, 'Distribution of 8th grade math scores')"
      ]
     },
     "execution_count": 13,
     "metadata": {},
     "output_type": "execute_result"
    },
    {
     "data": {
      "image/png": "[encoded data removed]",
      "text/plain": [
       "<Figure size 432x288 with 1 Axes>"
      ]
     },
     "metadata": {
      "needs_background": "light"
     },
     "output_type": "display_data"
    }
   ],
   "source": [
    "df_new.AVG_MATH_8_SCORE.hist()\n",
    "plt.xlabel('score')\n",
    "plt.ylabel('Frequency')\n",
    "plt.title('Distribution of 8th grade math scores')"
   ]
  },
  {
   "cell_type": "markdown",
   "metadata": {},
   "source": [
    "It is also helpful to look at the data over time. From the graph below we can observe that the math score is improved linearly over year, but recently it has a downward trend "
   ]
  },
  {
   "cell_type": "code",
   "execution_count": 14,
   "metadata": {},
   "outputs": [
    {
     "data": {
      "text/plain": [
       "Text(0.5, 1.0, '8th grade math score over time')"
      ]
     },
     "execution_count": 14,
     "metadata": {},
     "output_type": "execute_result"
    },
    {
     "data": {
      "image/png": "[encoded data removed]",
      "text/plain": [
       "<Figure size 432x288 with 1 Axes>"
      ]
     },
     "metadata": {
      "needs_background": "light"
     },
     "output_type": "display_data"
    }
   ],
   "source": [
    "df_new.groupby('YEAR').AVG_MATH_8_SCORE.mean().plot()\n",
    "plt.ylabel('SCORE')\n",
    "plt.title('8th grade math score over time')"
   ]
  },
  {
   "cell_type": "markdown",
   "metadata": {},
   "source": [
    "**< From the figures above we can see that the average math score for 8th-grade students in the USA is 280. Also, the national average math score is getting better every year. But recently, there is a downward trend. >**"
   ]
  },
  {
   "cell_type": "markdown",
   "metadata": {},
   "source": [
    "Visualization 2"
   ]
  },
  {
   "cell_type": "markdown",
   "metadata": {},
   "source": [
    "Let's use the scatter plot to visualize the correlations between studied variables and math scores."
   ]
  },
  {
   "cell_type": "code",
   "execution_count": 15,
   "metadata": {},
   "outputs": [
    {
     "data": {
      "text/plain": [
       "Text(0, 0.5, '8th grade math score')"
      ]
     },
     "execution_count": 15,
     "metadata": {},
     "output_type": "execute_result"
    },
    {
     "data": {
      "image/png": "[encoded data removed]",
      "text/plain": [
       "<Figure size 432x288 with 1 Axes>"
      ]
     },
     "metadata": {
      "needs_background": "light"
     },
     "output_type": "display_data"
    }
   ],
   "source": [
    "df_new.plot.scatter(x='ENROLL_8',y='AVG_MATH_8_SCORE')\n",
    "plt.xlabel('8th grade enrollment')\n",
    "plt.ylabel('8th grade math score')"
   ]
  },
  {
   "cell_type": "markdown",
   "metadata": {},
   "source": [
    "It seems like the number of enrollments is not strongly correlated to the math score. But do the students with high math scores in their 4th grade should also have nice math scores in 8th grade?"
   ]
  },
  {
   "cell_type": "code",
   "execution_count": 16,
   "metadata": {},
   "outputs": [
    {
     "data": {
      "text/plain": [
       "Text(0, 0.5, '8th grade math score')"
      ]
     },
     "execution_count": 16,
     "metadata": {},
     "output_type": "execute_result"
    },
    {
     "data": {
      "image/png": "[encoded data removed]",
      "text/plain": [
       "<Figure size 432x288 with 1 Axes>"
      ]
     },
     "metadata": {
      "needs_background": "light"
     },
     "output_type": "display_data"
    }
   ],
   "source": [
    "df_new.plot.scatter(x='AVG_MATH_4_SCORE',y='AVG_MATH_8_SCORE')\n",
    "plt.xlabel('4th grade math score')\n",
    "plt.ylabel('8th grade math score')"
   ]
  },
  {
   "cell_type": "markdown",
   "metadata": {},
   "source": [
    "Finally, it is time to check the correlation between average expenditure and math scores."
   ]
  },
  {
   "cell_type": "code",
   "execution_count": 17,
   "metadata": {},
   "outputs": [
    {
     "data": {
      "text/plain": [
       "Text(0, 0.5, '8th grade math score')"
      ]
     },
     "execution_count": 17,
     "metadata": {},
     "output_type": "execute_result"
    },
    {
     "data": {
      "image/png": "[encoded data removed]",
      "text/plain": [
       "<Figure size 432x288 with 1 Axes>"
      ]
     },
     "metadata": {
      "needs_background": "light"
     },
     "output_type": "display_data"
    }
   ],
   "source": [
    "df_new.plot.scatter(x='SUPPORT_SERVICES_EXPENDITURE_PER_STUDENT',y='AVG_MATH_8_SCORE')\n",
    "plt.xlabel('the average supportive expenditure on students')\n",
    "plt.ylabel('8th grade math score')"
   ]
  },
  {
   "cell_type": "code",
   "execution_count": 18,
   "metadata": {},
   "outputs": [
    {
     "data": {
      "text/plain": [
       "Text(0, 0.5, '8th grade math score')"
      ]
     },
     "execution_count": 18,
     "metadata": {},
     "output_type": "execute_result"
    },
    {
     "data": {
      "image/png": "[encoded data removed]",
      "text/plain": [
       "<Figure size 432x288 with 1 Axes>"
      ]
     },
     "metadata": {
      "needs_background": "light"
     },
     "output_type": "display_data"
    }
   ],
   "source": [
    "df_new.plot.scatter(x='INSTRUCTION_EXPENDITURE_PER_STUDENT',y='AVG_MATH_8_SCORE')\n",
    "plt.xlabel('the average instruction expenditure on students')\n",
    "plt.ylabel('8th grade math score')"
   ]
  },
  {
   "cell_type": "markdown",
   "metadata": {},
   "source": [
    "**< The three plots above show that the math score of 8th grade students are positively correlated to the values of math score of 4th grade students and the average expenditures.>**"
   ]
  },
  {
   "cell_type": "markdown",
   "metadata": {},
   "source": [
    "<h2> Data Creation </h2>\n",
    "\n",
    "_Use this space to create train/test data_"
   ]
  },
  {
   "cell_type": "code",
   "execution_count": 19,
   "metadata": {},
   "outputs": [],
   "source": [
    "from sklearn.model_selection import train_test_split"
   ]
  },
  {
   "cell_type": "code",
   "execution_count": 20,
   "metadata": {},
   "outputs": [],
   "source": [
    "var_names = ['SUPPORT_SERVICES_EXPENDITURE_PER_STUDENT','ENROLL_8', 'INSTRUCTION_EXPENDITURE_PER_STUDENT',\\\n",
    "             'YEAR', 'AVG_MATH_4_SCORE']\n",
    "X = df_new[var_names].dropna()\n",
    "y = df_new.loc[X.index]['AVG_MATH_8_SCORE']"
   ]
  },
  {
   "cell_type": "code",
   "execution_count": 21,
   "metadata": {},
   "outputs": [],
   "source": [
    "X_train, X_test, y_train, y_test = train_test_split(\n",
    "     X, y, test_size=0.3, random_state=0)"
   ]
  },
  {
   "cell_type": "markdown",
   "metadata": {},
   "source": [
    "<h2> Prediction </h2>"
   ]
  },
  {
   "cell_type": "markdown",
   "metadata": {},
   "source": [
    "Chosen ML task: **< REGRESSION >**"
   ]
  },
  {
   "cell_type": "code",
   "execution_count": 22,
   "metadata": {},
   "outputs": [],
   "source": [
    "# import your sklearn class here\n",
    "from sklearn.linear_model import LinearRegression"
   ]
  },
  {
   "cell_type": "code",
   "execution_count": 23,
   "metadata": {},
   "outputs": [],
   "source": [
    "# create your model here\n",
    "model = LinearRegression()"
   ]
  },
  {
   "cell_type": "code",
   "execution_count": 24,
   "metadata": {},
   "outputs": [
    {
     "data": {
      "text/plain": [
       "LinearRegression()"
      ]
     },
     "execution_count": 24,
     "metadata": {},
     "output_type": "execute_result"
    }
   ],
   "source": [
    "model.fit(X_train, y_train)"
   ]
  },
  {
   "cell_type": "code",
   "execution_count": 25,
   "metadata": {},
   "outputs": [],
   "source": [
    "y_pred = model.predict(X_test)"
   ]
  },
  {
   "cell_type": "code",
   "execution_count": 26,
   "metadata": {},
   "outputs": [
    {
     "data": {
      "text/plain": [
       "Text(0, 0.5, 'Math 8 Score')"
      ]
     },
     "execution_count": 26,
     "metadata": {},
     "output_type": "execute_result"
    },
    {
     "data": {
      "image/png": "[encoded data removed]",
      "text/plain": [
       "<Figure size 864x432 with 1 Axes>"
      ]
     },
     "metadata": {
      "needs_background": "light"
     },
     "output_type": "display_data"
    }
   ],
   "source": [
    "# for regression: (pick a single column to visualize results)\n",
    "\n",
    "# Results from this graph _should not_ be used as a part of your results -- it is just here to help with intuition. \n",
    "# Instead, look at the error values and individual intercepts.\n",
    "\n",
    "\n",
    "col_name = 'SUPPORT_SERVICES_EXPENDITURE_PER_STUDENT'\n",
    "col_index = X_train.columns.get_loc(col_name)\n",
    "\n",
    "f = plt.figure(figsize=(12,6))\n",
    "plt.scatter(X_train[col_name], y_train, color = \"red\")\n",
    "plt.scatter(X_train[col_name], model.predict(X_train), color = \"green\")\n",
    "plt.scatter(X_test[col_name], model.predict(X_test), color = \"blue\")\n",
    "\n",
    "new_x = np.linspace(X_train[col_name].min(),X_train[col_name].max(),200)\n",
    "intercept = model.predict([X_train.sort_values(col_name).iloc[0]]) - X_train[col_name].min()*model.coef_[col_index]\n",
    "plt.plot(new_x, intercept+new_x*model.coef_[col_index])\n",
    "\n",
    "plt.legend(['controlled model','true training','predicted training','predicted testing'])\n",
    "plt.xlabel(col_name)\n",
    "plt.ylabel('Math 8 Score')"
   ]
  },
  {
   "cell_type": "code",
   "execution_count": 27,
   "metadata": {},
   "outputs": [
    {
     "data": {
      "text/plain": [
       "Text(0, 0.5, 'Math 8 Score')"
      ]
     },
     "execution_count": 27,
     "metadata": {},
     "output_type": "execute_result"
    },
    {
     "data": {
      "image/png": "[encoded data removed]",
      "text/plain": [
       "<Figure size 864x432 with 1 Axes>"
      ]
     },
     "metadata": {
      "needs_background": "light"
     },
     "output_type": "display_data"
    }
   ],
   "source": [
    "col_name = 'INSTRUCTION_EXPENDITURE_PER_STUDENT'\n",
    "col_index = X_train.columns.get_loc(col_name)\n",
    "\n",
    "f = plt.figure(figsize=(12,6))\n",
    "plt.scatter(X_train[col_name], y_train, color = \"red\")\n",
    "plt.scatter(X_train[col_name], model.predict(X_train), color = \"green\")\n",
    "plt.scatter(X_test[col_name], model.predict(X_test), color = \"blue\")\n",
    "\n",
    "new_x = np.linspace(X_train[col_name].min(),X_train[col_name].max(),200)\n",
    "intercept = model.predict([X_train.sort_values(col_name).iloc[0]]) - X_train[col_name].min()*model.coef_[col_index]\n",
    "plt.plot(new_x, intercept+new_x*model.coef_[col_index])\n",
    "\n",
    "plt.legend(['controlled model','true training','predicted training','predicted testing'])\n",
    "plt.xlabel(col_name)\n",
    "plt.ylabel('Math 8 Score')"
   ]
  },
  {
   "cell_type": "markdown",
   "metadata": {},
   "source": [
    "Calculate the R2 value to see whether the model fits the data. The R2 value in our mode equals to 0.28 which means 28% variance around the mean can be explained by the model.  "
   ]
  },
  {
   "cell_type": "code",
   "execution_count": 28,
   "metadata": {},
   "outputs": [
    {
     "data": {
      "text/plain": [
       "0.8786839485902499"
      ]
     },
     "execution_count": 28,
     "metadata": {},
     "output_type": "execute_result"
    }
   ],
   "source": [
    "model.score(X_test, y_test)"
   ]
  },
  {
   "cell_type": "markdown",
   "metadata": {},
   "source": [
    "We can also exam other kinds of errors."
   ]
  },
  {
   "cell_type": "code",
   "execution_count": 29,
   "metadata": {},
   "outputs": [
    {
     "data": {
      "text/plain": [
       "-0.12328520046015899"
      ]
     },
     "execution_count": 29,
     "metadata": {},
     "output_type": "execute_result"
    }
   ],
   "source": [
    "# mean error\n",
    "np.mean(model.predict(X_test)-y_test)"
   ]
  },
  {
   "cell_type": "code",
   "execution_count": 30,
   "metadata": {},
   "outputs": [
    {
     "data": {
      "text/plain": [
       "3.391079292828127"
      ]
     },
     "execution_count": 30,
     "metadata": {},
     "output_type": "execute_result"
    }
   ],
   "source": [
    "# root mean squared error -- penalizes large errors\n",
    "np.mean((model.predict(X_test)-y_test)**2)**0.5"
   ]
  },
  {
   "cell_type": "markdown",
   "metadata": {},
   "source": [
    "Since in this exercise we exam the impacts of expenditures and other factors on 8th-grade math scores, we need to know how they affect the math score (positive or negative impact). So the coefficients should be checked."
   ]
  },
  {
   "cell_type": "code",
   "execution_count": 31,
   "metadata": {},
   "outputs": [
    {
     "name": "stdout",
     "output_type": "stream",
     "text": [
      "The coefficient of SUPPORT_SERVICES_EXPENDITURE_PER_STUDENT in the model is -0.80492\n",
      "The coefficient of ENROLL_8 in the model is -0.0\n",
      "The coefficient of INSTRUCTION_EXPENDITURE_PER_STUDENT in the model is 0.69761\n",
      "The coefficient of YEAR in the model is -0.29202\n",
      "The coefficient of AVG_MATH_4_SCORE in the model is 1.02798\n"
     ]
    }
   ],
   "source": [
    "coeff = model.coef_\n",
    "\n",
    "for i in range(5):\n",
    "    print(\"The coefficient of {0} in the model is {1}\".format(var_names[i], round(coeff[i], 5)))"
   ]
  },
  {
   "cell_type": "markdown",
   "metadata": {},
   "source": [
    "The results of coefficients are very interesting. Firstly, it seem that the support services expenditure has negative impact on studetns. Meanwhile, the instruction expenditure affect educational result positively. Why do these two types of expenditures have completely opposite impacts on the result? Maybe the significance of each variable can tell us more."
   ]
  },
  {
   "cell_type": "code",
   "execution_count": 32,
   "metadata": {},
   "outputs": [
    {
     "name": "stdout",
     "output_type": "stream",
     "text": [
      "                            OLS Regression Results                            \n",
      "==============================================================================\n",
      "Dep. Variable:       AVG_MATH_8_SCORE   R-squared:                       0.862\n",
      "Model:                            OLS   Adj. R-squared:                  0.861\n",
      "Method:                 Least Squares   F-statistic:                     605.6\n",
      "Date:                Thu, 08 Oct 2020   Prob (F-statistic):          1.17e-205\n",
      "Time:                        03:03:37   Log-Likelihood:                -1330.6\n",
      "No. Observations:                 490   AIC:                             2673.\n",
      "Df Residuals:                     484   BIC:                             2698.\n",
      "Df Model:                           5                                         \n",
      "Covariance Type:            nonrobust                                         \n",
      "============================================================================================================\n",
      "                                               coef    std err          t      P>|t|      [0.025      0.975]\n",
      "------------------------------------------------------------------------------------------------------------\n",
      "const                                      638.3927     70.173      9.097      0.000     500.511     776.274\n",
      "SUPPORT_SERVICES_EXPENDITURE_PER_STUDENT    -0.3911      0.335     -1.167      0.244      -1.050       0.267\n",
      "ENROLL_8                                  -2.73e-06   2.01e-06     -1.359      0.175   -6.68e-06    1.22e-06\n",
      "INSTRUCTION_EXPENDITURE_PER_STUDENT          0.4324      0.193      2.245      0.025       0.054       0.811\n",
      "YEAR                                        -0.3033      0.037     -8.280      0.000      -0.375      -0.231\n",
      "AVG_MATH_4_SCORE                             1.0536      0.025     42.091      0.000       1.004       1.103\n",
      "==============================================================================\n",
      "Omnibus:                        0.813   Durbin-Watson:                   0.839\n",
      "Prob(Omnibus):                  0.666   Jarque-Bera (JB):                0.822\n",
      "Skew:                           0.099   Prob(JB):                        0.663\n",
      "Kurtosis:                       2.962   Cond. No.                     4.69e+07\n",
      "==============================================================================\n",
      "\n",
      "Warnings:\n",
      "[1] Standard Errors assume that the covariance matrix of the errors is correctly specified.\n",
      "[2] The condition number is large, 4.69e+07. This might indicate that there are\n",
      "strong multicollinearity or other numerical problems.\n"
     ]
    }
   ],
   "source": [
    "import statsmodels.api as sm\n",
    "X2 = sm.add_constant(X)\n",
    "est = sm.OLS(y, X2)\n",
    "est2 = est.fit()\n",
    "print(est2.summary())"
   ]
  },
  {
   "cell_type": "markdown",
   "metadata": {},
   "source": [
    "Well, from the summary above it is clear that the impact on math score caused by average support services expenditure on students is negative but not very significant because it has a p-value > 0.2 . **In contrast to that, the instruction expenditure has a positive impact and it is significant (p < 0.05).** Also, the hypothesis that a state with a high average 4th-grade math score will also have a high math score of 8th-grade is also valid. Here the coefficient for AVG_MATH_4_SCORE is 1.05 and it is statistically significant."
   ]
  },
  {
   "cell_type": "markdown",
   "metadata": {},
   "source": [
    "<h2> Summary </h2>"
   ]
  },
  {
   "cell_type": "markdown",
   "metadata": {},
   "source": [
    "**< As a summary, we can conclude that the budget does play an important role in the quality of mathematical education. The results of linear regression show that increasing the average instruction spending by a dollar will increase the average 8th-grade math score by 0.43. It is also important to know that not all types of spending work. The result of other types of expenditures shows that expenditures could also bring negative but not significant impacts on math scores. So methods such as raising teacher's salaries, spending money on designing better materials, and purchasing more books in the libraries should be emphasized. \\>**"
   ]
  },
  {
   "cell_type": "code",
   "execution_count": null,
   "metadata": {},
   "outputs": [],
   "source": []
  }
 ],
 "metadata": {
  "kernelspec": {
   "display_name": "Python 3",
   "language": "python",
   "name": "python3"
  },
  "language_info": {
   "codemirror_mode": {
    "name": "ipython",
    "version": 3
   },
   "file_extension": ".py",
   "mimetype": "text/x-python",
   "name": "python",
   "nbconvert_exporter": "python",
   "pygments_lexer": "ipython3",
   "version": "3.8.5"
  }
 },
 "nbformat": 4,
 "nbformat_minor": 4
}
